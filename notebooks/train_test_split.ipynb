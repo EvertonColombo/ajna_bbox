{
 "cells": [
  {
   "cell_type": "code",
   "execution_count": 8,
   "metadata": {},
   "outputs": [],
   "source": [
    "import os\n",
    "import random\n",
    "from shutil import copytree"
   ]
  },
  {
   "cell_type": "code",
   "execution_count": 15,
   "metadata": {},
   "outputs": [
    {
     "data": {
      "text/plain": [
       "('..\\\\bases\\\\dataset\\\\train', '..\\\\bases\\\\dataset\\\\test')"
      ]
     },
     "execution_count": 15,
     "metadata": {},
     "output_type": "execute_result"
    }
   ],
   "source": [
    "caminho_bases = os.path.join('..', 'bases')\n",
    "caminho_train = os.path.join(caminho_bases, 'dataset','train')\n",
    "caminho_test = os.path.join(caminho_bases, 'dataset', 'test')\n",
    "\n",
    "\n",
    "caminho_train, caminho_test"
   ]
  },
  {
   "cell_type": "code",
   "execution_count": 31,
   "metadata": {},
   "outputs": [],
   "source": [
    "def split_data(source, train, test, SPLIT_SIZE=0.7):\n",
    "    folder = []\n",
    "    for foldername in os.listdir(source):\n",
    "        \n",
    "        folder_path = os.path.join(source, foldername)\n",
    "        if len(os.listdir(folder_path)) > 0:\n",
    "            folder.append(folder_path)\n",
    "        else:\n",
    "            print(folder_path + \" is zero length, so ignoring.\")\n",
    "            \n",
    "\n",
    "    training_length = int(len(folder) * SPLIT_SIZE)\n",
    "    testing_length = int(len(folder) - training_length)\n",
    "    shuffled_set = random.sample(folder, len(folder))\n",
    "    training_set = shuffled_set[0:training_length]\n",
    "    testing_set = shuffled_set[:testing_length]\n",
    "\n",
    "    for this_folder in training_set:\n",
    "        \n",
    "        image_folder = this_folder.split('\\\\')[3]\n",
    "        destination = os.path.join(train, image_folder)\n",
    "        copytree(this_folder, destination)\n",
    "\n",
    "    for this_folder in testing_set:\n",
    "        \n",
    "        image_folder = this_folder.split('\\\\')[3]\n",
    "        destination = os.path.join(test, image_folder)\n",
    "        copytree(this_folder, destination)\n",
    "        \n",
    "    print(f'training_length: {training_length}')\n",
    "    print(f'testing_length: {testing_length}')\n",
    "    \n"
   ]
  },
  {
   "cell_type": "code",
   "execution_count": 32,
   "metadata": {},
   "outputs": [],
   "source": [
    "source_dir = '..\\\\bases\\\\baseline\\\\'\n",
    "\n",
    "split_data(source_dir, caminho_train, caminho_test)"
   ]
  }
 ],
 "metadata": {
  "kernelspec": {
   "display_name": "ajna_bbox",
   "language": "python",
   "name": "ajna_bbox"
  },
  "language_info": {
   "codemirror_mode": {
    "name": "ipython",
    "version": 3
   },
   "file_extension": ".py",
   "mimetype": "text/x-python",
   "name": "python",
   "nbconvert_exporter": "python",
   "pygments_lexer": "ipython3",
   "version": "3.8.5"
  }
 },
 "nbformat": 4,
 "nbformat_minor": 4
}
