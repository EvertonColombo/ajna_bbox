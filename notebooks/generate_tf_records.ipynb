{
 "cells": [
  {
   "cell_type": "code",
   "execution_count": 30,
   "metadata": {
    "ExecuteTime": {
     "end_time": "2020-07-15T17:49:33.777573Z",
     "start_time": "2020-07-15T17:49:33.751582Z"
    }
   },
   "outputs": [],
   "source": [
    "import os\n",
    "import io\n",
    "import pandas as pd\n",
    "import tensorflow as tf\n",
    "import sys\n",
    "sys.path.append(\"../../models/research\")\n",
    "\n",
    "from PIL import Image\n",
    "from object_detection.utils import dataset_util\n",
    "from collections import namedtuple, OrderedDict\n",
    "\n",
    "def class_text_to_int(row_label):\n",
    "    if row_label == 'conteiner':\n",
    "        return 1\n",
    "    else:\n",
    "        None\n",
    "\n",
    "def load_labels(arquivo):\n",
    "    # Função está retornando apenas a primeira bbox\n",
    "    labels = []\n",
    "    with open(arquivo) as labels_in:\n",
    "        line = labels_in.readline()\n",
    "        c, xcen, ycen, w, h = map(float, line.split())\n",
    "        x1 = xcen - w / 2\n",
    "        x2 = xcen + w / 2\n",
    "        y1 = ycen - h / 2\n",
    "        y2 = ycen + h / 2\n",
    "    return x1, x2, y1, y2\n",
    "\n",
    "def create_tf_example(path, imageid):\n",
    "    jpeg_filename = os.path.join(path, '{}.jpg'.format(imageid))\n",
    "    txt_filename = os.path.join(path, '{}.txt'.format(imageid))\n",
    "    with tf.io.gfile.GFile(os.path.join(path, '{}.jpg'.format(imageid)), 'rb') as fid:\n",
    "        encoded_jpg = fid.read()\n",
    "    encoded_jpg_io = io.BytesIO(encoded_jpg)\n",
    "    image = Image.open(encoded_jpg_io)\n",
    "    width, height = image.size\n",
    "\n",
    "    filename = jpeg_filename.encode('utf8')\n",
    "    image_format = b'jpg'\n",
    "    xmin, xmax, ymin, ymax = load_labels(txt_filename)\n",
    "    xmins = [xmin]\n",
    "    xmaxs = [xmax]\n",
    "    ymins = [ymin]\n",
    "    ymaxs = [ymax]\n",
    "    classes_text = [b'conteiner']\n",
    "    classes = [class_text_to_int('conteiner')]\n",
    "\n",
    "    tf_example = tf.train.Example(features=tf.train.Features(feature={\n",
    "        'image/height': dataset_util.int64_feature(height),\n",
    "        'image/width': dataset_util.int64_feature(width),\n",
    "        'image/filename': dataset_util.bytes_feature(filename),\n",
    "        'image/source_id': dataset_util.bytes_feature(filename),\n",
    "        'image/encoded': dataset_util.bytes_feature(encoded_jpg),\n",
    "        'image/format': dataset_util.bytes_feature(image_format),\n",
    "        'image/object/bbox/xmin': dataset_util.float_list_feature(xmins),\n",
    "        'image/object/bbox/xmax': dataset_util.float_list_feature(xmaxs),\n",
    "        'image/object/bbox/ymin': dataset_util.float_list_feature(ymins),\n",
    "        'image/object/bbox/ymax': dataset_util.float_list_feature(ymaxs),\n",
    "        'image/object/class/text': dataset_util.bytes_list_feature(classes_text),\n",
    "        'image/object/class/label': dataset_util.int64_list_feature(classes),\n",
    "    }))\n",
    "    return tf_example"
   ]
  },
  {
   "cell_type": "code",
   "execution_count": 31,
   "metadata": {
    "ExecuteTime": {
     "end_time": "2020-07-15T17:49:34.174404Z",
     "start_time": "2020-07-15T17:49:34.165351Z"
    }
   },
   "outputs": [
    {
     "name": "stdout",
     "output_type": "stream",
     "text": [
      "[Errno 17] File exists: '../bases/tfrecord'\n"
     ]
    }
   ],
   "source": [
    "try:\n",
    "    os.mkdir('../bases/tfrecord')\n",
    "except FileExistsError as err:\n",
    "    print(err)"
   ]
  },
  {
   "cell_type": "code",
   "execution_count": 39,
   "metadata": {
    "ExecuteTime": {
     "end_time": "2020-07-15T17:52:05.223369Z",
     "start_time": "2020-07-15T17:52:05.213232Z"
    }
   },
   "outputs": [
    {
     "name": "stdout",
     "output_type": "stream",
     "text": [
      "/home/ivan/PycharmProjects/ajna_bbox/bases/baseline/\n",
      "/home/ivan/PycharmProjects/ajna_bbox/bases/tfrecord\n"
     ]
    }
   ],
   "source": [
    "base_path = '/'.join(os.getcwd().split('/')[:-1])\n",
    "train_image_dir = os.path.join(base_path, 'bases', 'baseline/')\n",
    "output_dir = os.path.join(base_path, 'bases', 'tfrecord')\n",
    "print(train_image_dir)\n",
    "print(output_dir)"
   ]
  },
  {
   "cell_type": "code",
   "execution_count": 40,
   "metadata": {
    "ExecuteTime": {
     "end_time": "2020-07-15T17:52:06.451283Z",
     "start_time": "2020-07-15T17:52:06.445687Z"
    }
   },
   "outputs": [
    {
     "name": "stdout",
     "output_type": "stream",
     "text": [
      "281\n"
     ]
    }
   ],
   "source": [
    "image_ids = os.listdir(train_image_dir)\n",
    "print(len(image_ids))"
   ]
  },
  {
   "cell_type": "code",
   "execution_count": 41,
   "metadata": {
    "ExecuteTime": {
     "end_time": "2020-07-15T17:52:28.249550Z",
     "start_time": "2020-07-15T17:52:28.102440Z"
    }
   },
   "outputs": [],
   "source": [
    "writer = tf.io.TFRecordWriter(os.path.join(output_dir, 'train.record'))\n",
    "for image_id in image_ids[:260]:\n",
    "    tf_example = create_tf_example(os.path.join(train_image_dir, image_id), image_id)\n",
    "    writer.write(tf_example.SerializeToString())\n",
    "writer.close()"
   ]
  },
  {
   "cell_type": "code",
   "execution_count": 42,
   "metadata": {
    "ExecuteTime": {
     "end_time": "2020-07-15T17:52:40.029610Z",
     "start_time": "2020-07-15T17:52:39.497112Z"
    }
   },
   "outputs": [],
   "source": [
    "writer = tf.io.TFRecordWriter(os.path.join(output_dir, 'test.record'))\n",
    "for image_id in image_ids[260:]:\n",
    "    tf_example = create_tf_example(os.path.join(train_image_dir, image_id), image_id)\n",
    "    writer.write(tf_example.SerializeToString())\n",
    "writer.close()"
   ]
  },
  {
   "cell_type": "code",
   "execution_count": null,
   "metadata": {},
   "outputs": [],
   "source": []
  }
 ],
 "metadata": {
  "kernelspec": {
   "display_name": "ajna_bbox",
   "language": "python",
   "name": "ajna_bbox"
  },
  "language_info": {
   "codemirror_mode": {
    "name": "ipython",
    "version": 3
   },
   "file_extension": ".py",
   "mimetype": "text/x-python",
   "name": "python",
   "nbconvert_exporter": "python",
   "pygments_lexer": "ipython3",
   "version": "3.6.11"
  }
 },
 "nbformat": 4,
 "nbformat_minor": 2
}
